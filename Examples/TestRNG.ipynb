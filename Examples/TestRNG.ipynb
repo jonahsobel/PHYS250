{
 "cells": [
  {
   "cell_type": "markdown",
   "metadata": {},
   "source": [
    "# Testing random number generators\n",
    "\n",
    "### Setup\n",
    "\n",
    "First, we want to import both `numpy` and `matplotlib`, but we also want the `numpy` random number generator to be avilable directly in case we want to swap it out for other libraries easily and not have to change any of our downstream code."
   ]
  },
  {
   "cell_type": "code",
   "execution_count": 35,
   "metadata": {},
   "outputs": [],
   "source": [
    "import numpy as np\n",
    "import matplotlib.pyplot as plt\n",
    "from numpy import random as rng"
   ]
  },
  {
   "cell_type": "markdown",
   "metadata": {},
   "source": [
    "It is always good to look at the source documentation for information about how the libraries and the functions that they provide are used, as well as useful tidbits and examples. I used the `numpy` source directly for this:\n",
    "\n",
    "* https://docs.scipy.org/doc/numpy-1.14.0/reference/routines.random.html\n",
    "\n",
    "Now, let's just print out a few random numbers to make sure we know what we're doing."
   ]
  },
  {
   "cell_type": "code",
   "execution_count": 32,
   "metadata": {},
   "outputs": [
    {
     "data": {
      "text/plain": [
       "array([0.28365406, 0.04244663, 0.83401653, 0.17590071, 0.63940638,\n",
       "       0.48085389, 0.2255862 , 0.68033538, 0.59390883, 0.47788692])"
      ]
     },
     "execution_count": 32,
     "metadata": {},
     "output_type": "execute_result"
    }
   ],
   "source": [
    "num_test_outputs = 10\n",
    "rng.random(size=num_test_outputs)"
   ]
  },
  {
   "cell_type": "markdown",
   "metadata": {},
   "source": [
    "As with any physics problem, you should take a moment and look at the output here and make sure it passes the sanity checks. \n",
    "\n",
    "* Did you get the number of outputs that you expected?\n",
    "  * Should be equal to `num_test_outputs`\n",
    "* Do they have values in the range that you expect given the function used?\n",
    "* Is the format of output object from the function what you expected?"
   ]
  },
  {
   "cell_type": "markdown",
   "metadata": {},
   "source": [
    "### Basic random number generation and study\n",
    "\n",
    "We will want to generate a large set of random numbers and begin to analyze their values. One way to do this is to assess the *Cumulative Distribution Function*. A standard definition for this is:\n",
    "\n",
    "> the probability of observing a value at most some given value `x`"
   ]
  },
  {
   "cell_type": "code",
   "execution_count": 33,
   "metadata": {},
   "outputs": [
    {
     "data": {
      "text/plain": [
       "[<matplotlib.lines.Line2D at 0x7f3eceb22da0>]"
      ]
     },
     "execution_count": 33,
     "metadata": {},
     "output_type": "execute_result"
    },
    {
     "data": {
      "image/png": "[encoded data removed]",
      "text/plain": [
       "<Figure size 432x288 with 1 Axes>"
      ]
     },
     "metadata": {},
     "output_type": "display_data"
    }
   ],
   "source": [
    "# Specify the number of outputs that we want to work with for this example\n",
    "num_outputs = 100000\n",
    "\n",
    "# Generate sorted random numbers\n",
    "x = np.sort(rng.random(size=num_outputs))   # This returns an array\n",
    "\n",
    "# Generate y-axis for the cumulative distribution function (CDF)\n",
    "y = np.arange(1, len(x)+1) / len(x)          # Return evenly spaced values within a given interval.\n",
    "\n",
    "# Plot CDF from random numbers (for plotting purposes, only plot 100 points)\n",
    "plt.plot(x[::1000], y[::1000], marker='.', linestyle='none', markersize=10)\n",
    "\n",
    "# Plot expected CDF (should just a straight line from (0,0) to (1,1)\n",
    "plt.plot([0, 1], [0, 1], 'k-')"
   ]
  },
  {
   "cell_type": "markdown",
   "metadata": {},
   "source": [
    "Another way of thinking about this might be to *add* two such random numbers together and make sure that the most probably value is the sum of the average and that it maxes out at the maximum possible value. \n",
    "\n",
    "Here, we will actual look at how writing this code in a \"C++ way\" might differ from a \"pythonic\" way."
   ]
  },
  {
   "cell_type": "code",
   "execution_count": 36,
   "metadata": {},
   "outputs": [
    {
     "data": {
      "image/png": "[encoded data removed]",
      "text/plain": [
       "<Figure size 432x288 with 1 Axes>"
      ]
     },
     "metadata": {},
     "output_type": "display_data"
    },
    {
     "data": {
      "image/png": "[encoded data removed]",
      "text/plain": [
       "<Figure size 432x288 with 1 Axes>"
      ]
     },
     "metadata": {},
     "output_type": "display_data"
    }
   ],
   "source": [
    "# Specify the number of samples to test\n",
    "num_samples = 10000\n",
    "\n",
    "# The C++ way\n",
    "randomsum = []                             # This is an empty array meant to hold the sequence of sums that we generate\n",
    "for i in range(num_samples):               # This is our `for` loop, which aside frome some basic syntax, looks just like C++\n",
    "    total = rng.random() + rng.random()    # Here is where we generate a sum of two random numbers\n",
    "    randomsum.append(total)                # Now we have to put this sum into our array for later plotting\n",
    "\n",
    "# We've now finished the `for` loop, so we can start plotting\n",
    "num_bins = 10                             # This specifies the number of bins that we want in our histogram\n",
    "plt.hist(randomsum, num_bins)              # This builds the histogram with the values stored in `randomsum` and \n",
    "plt.show()                                 # This forces display of the plots\n",
    "\n",
    "# The python way\n",
    "newrandomsum = [sum(x) for x in zip(rng.random(num_samples), rng.random(num_samples))]   # It's a long line, but it's one line nonetheless\n",
    "\n",
    "plt.hist(newrandomsum, num_bins)           # This builds the histogram with the values stored in `randomsum` and \n",
    "plt.show()                                 # This forces display of the plots"
   ]
  },
  {
   "cell_type": "markdown",
   "metadata": {},
   "source": [
    "The only \"tricky\" thing about the above *pythonic* approach was the use of `zip`\n",
    "\n",
    "* https://docs.python.org/3/library/functions.html#zip\n",
    "\n",
    "~~~~\n",
    ">>> x = [1, 2, 3]\n",
    ">>> y = [4, 5, 6]\n",
    ">>> zipped = zip(x, y)\n",
    ">>> list(zipped)\n",
    "[(1, 4), (2, 5), (3, 6)]\n",
    "~~~~\n",
    "\n",
    "So, the effect is that we obtain an element-by-element pair from the two lists of `num_samples` of random numbers. Then, the use of `sum` merely adds each of those pairs, or *tuples* together, yielding a summed list `num_samples` long."
   ]
  },
  {
   "cell_type": "markdown",
   "metadata": {},
   "source": [
    "### Quantitative tests of random number generators\n",
    "\n",
    "As discussed in lecture, we need to contruct a test of the uniformity of our dataset. One way to do that is to compare against the expectation of an exactly equal rate of population statistics for equal intervals in the range of the random number generator.\n",
    "\n",
    "First, we need to write a function that computes the chi-squared"
   ]
  },
  {
   "cell_type": "code",
   "execution_count": 53,
   "metadata": {},
   "outputs": [],
   "source": [
    "# Simple function for computing a chi-squared given a set of input values from a histogram and their expectations\n",
    "def my_uniform_chisq(bin_values, bin_expectations):\n",
    "    num_bins = len(bin_values)\n",
    "    chi_square = sum( ( ((bin_values[i] - bin_expectations[i])**2) / bin_values[i] ) for i in range(num_bins))\n",
    "    return(chi_square)"
   ]
  },
  {
   "cell_type": "code",
   "execution_count": 95,
   "metadata": {},
   "outputs": [
    {
     "name": "stdout",
     "output_type": "stream",
     "text": [
      "[105.  83.  92. 103. 122.  93.  97.  97. 100. 108.]\n",
      "[100.0, 100.0, 100.0, 100.0, 100.0, 100.0, 100.0, 100.0, 100.0, 100.0]\n"
     ]
    },
    {
     "data": {
      "image/png": "[encoded data removed]",
      "text/plain": [
       "<Figure size 432x288 with 1 Axes>"
      ]
     },
     "metadata": {},
     "output_type": "display_data"
    }
   ],
   "source": [
    "# Now, just as in lecture, populate a histogram that we will then test\n",
    "samples  = 1000                                         # Number of samples of the RNG\n",
    "num_bins = 10                                              # Number of bins in the histogram (effectively specifies the interval)\n",
    "data     = rng.random(samples)                             # Fill a numpy array with random numbers `samples` times\n",
    "bin_values, bin_edges, patches = plt.hist(data,num_bins)   # Fill the histogram, and save the values of each of the bins\n",
    "\n",
    "# Always good to check that you know what you're doing \n",
    "print(bin_values)                                          # Print out the values of the bins to cross-check the plot \n",
    "\n",
    "# Fill an array with the expectations for the bin values\n",
    "bin_expectations = [samples/num_bins] * num_bins           # This is a trick to initialize an array with a given length (num_bins)\n",
    "\n",
    "# Again, just to make sure we're on track, print everything out\n",
    "print(bin_expectations)"
   ]
  },
  {
   "cell_type": "markdown",
   "metadata": {},
   "source": [
    "Now all we have to do is plug these arrays into our chi-squared calculation!"
   ]
  },
  {
   "cell_type": "code",
   "execution_count": 101,
   "metadata": {},
   "outputs": [
    {
     "name": "stdout",
     "output_type": "stream",
     "text": [
      "9.77530820171443\n"
     ]
    }
   ],
   "source": [
    "chisq = my_uniform_chisq(bin_values,bin_expectations)\n",
    "\n",
    "print(chisq)"
   ]
  }
 ],
 "metadata": {
  "kernelspec": {
   "display_name": "Python 3",
   "language": "python",
   "name": "python3"
  },
  "language_info": {
   "codemirror_mode": {
    "name": "ipython",
    "version": 3
   },
   "file_extension": ".py",
   "mimetype": "text/x-python",
   "name": "python",
   "nbconvert_exporter": "python",
   "pygments_lexer": "ipython3",
   "version": "3.7.4"
  }
 },
 "nbformat": 4,
 "nbformat_minor": 2
}
