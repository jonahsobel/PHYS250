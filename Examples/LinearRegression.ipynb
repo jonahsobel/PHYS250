{
 "cells": [
  {
   "cell_type": "markdown",
   "metadata": {},
   "source": [
    "# Linear Regression Using Python"
   ]
  },
  {
   "cell_type": "markdown",
   "metadata": {},
   "source": [
    "## Theory"
   ]
  },
  {
   "cell_type": "markdown",
   "metadata": {},
   "source": [
    "Suppose that you want to fit a set data points $(x_i,y_i)$, where\n",
    "$i = 1,2,\\ldots,N$, to a straight line, $y=ax+b$.  The process of determining the best-fit line is called <i>linear regression</i>.  This involves choosing the parameters $a$ and $b$ to minimize the sum of the squares of the differences between the data points and the linear function.  How the differences are defined varies.  If there are only uncertainties in the <i>y</i> direction, then the differences in the vertical direction (the gray lines in the figure below) are used.  If there are uncertainties in both the $x$ and $y$ directions, the orthogonal (perpendicular) distances from the line (the dotted red lines in the figure below) are used."
   ]
  },
  {
   "cell_type": "code",
   "execution_count": null,
   "metadata": {},
   "outputs": [],
   "source": [
    "from IPython.display import Image\n",
    "Image(filename=\"Normal_vs_ODR.png\",width=400)"
   ]
  },
  {
   "cell_type": "markdown",
   "metadata": {},
   "source": [
    "Image from http://blog.rtwilson.com/orthogonal-distance-regression-in-python/  \n",
    "\n",
    "For the case where there are only uncertainties in the <i>y</i> direction, there is an analytical solution to the problem.  If the uncertainty in $y_i$ is $\\sigma_i$, then the difference squared for each point is weighted by $w_i=1/\\sigma_i^2$. If there are no uncertainties, each point is given an equal weight of one. The function to be minimized with respect to\n",
    "variations in the parameters, $a$ and $b$, is  \n",
    "\n",
    "$$\n",
    "\\chi^2 = \\sum_{i=1}^N w_i \\left[y_i - \\left(ax_i+b\\right)\\right]^2.\n",
    "$$  \n",
    "The analytical solutions for the best-fit parameters that minimize $\\chi^2$\n",
    "(see pp. 181-189 of <i>An Introduction to Error Analysis: The Study of Uncertainties in Physical Measurements</i> by John R. Taylor, for example) are  \n",
    "\n",
    "$$\n",
    "a=\\frac{\\sum w_i \\sum w_i x_i y_i - \\sum w_i x_i \\sum w_i y_i}{\\sum w_i \\sum w_i x_i^2 - \\left(\\sum w_i \\sum w_i x_i\\right)^2}\n",
    "$$  \n",
    "and\n",
    "$$\n",
    "b=\\frac{\\sum w_i y_i \\sum w_i x_i^2 - \\sum w_i x_i \\sum w_i x_i y_i}{\\sum w_i \\sum w_i x_i^2 - \\left(\\sum w_i \\sum w_i x_i\\right)^2}.\n",
    "$$  \n",
    "The uncertainties in the parameters are  \n",
    "\n",
    "$$\n",
    "\\sigma_a=\\sqrt{\\frac{\\sum w_i}{\\sum w\n",
    "_i \\sum w_i x_i^2 - \\left(\\sum w_i \\sum w_i x_i\\right)^2}}\n",
    "$$  \n",
    "and\n",
    "$$\n",
    "\\sigma_b=\\sqrt{\\frac{\\sum w_i x_i^2}{\\sum w_i \\sum w_i x_i^2 - \\left(\\sum w_i \\sum w_i x_i\\right)^2}}.\n",
    "$$  \n",
    "All of the sums in the four previous equations are over $i$ from 1 to $N$.  \n",
    "\n",
    "For the case where there are uncertainties in both $x$ and $y$, there is no analytical solution. The complex method used is called <i>orthogonal distance regression</i> (ODR). \n"
   ]
  },
  {
   "cell_type": "markdown",
   "metadata": {},
   "source": [
    "## Implementation in Python "
   ]
  },
  {
   "cell_type": "markdown",
   "metadata": {},
   "source": [
    "If there are no uncertainties or only uncertainties in the $y$ direction, the analytical expressions above are used. If there are uncertainties in both the $x$ and $y$ directions, the scipy.odr module is used.\n",
    "\n",
    "An example of performing a linear fit with uncertainties in the $y$ direction is shown below. The first command imports the function. Arrays containing the data points ($x$ and $y$) are sent to the function. If only one array of uncertainties (called $yerr$ in the example) is sent, they are assumed to be in the $y$ direction. In the example, the array\n",
    "function (from the pylab library) is used to turn lists into arrays. It is also possible to read data from a file. The fitting function returns the best-fit parameters (called $a$ and $b$ in the example), their uncertainties (called $sa$ and $sb$ in the example), the reduced chi squared, and the degrees of freedom (called $rchi2$ and $dof$ in the example). The last two quantities are defined in the next section. "
   ]
  },
  {
   "cell_type": "code",
   "execution_count": null,
   "metadata": {},
   "outputs": [],
   "source": [
    "from __future__ import print_function\n",
    "from math import sqrt\n",
    "from scipy import odr\n",
    "\n",
    "def linear_fit(xdata, ydata, sigmay=None, sigmax=None):\n",
    "    \"\"\"\n",
    "    Performs a linear fit to data.\n",
    "\n",
    "    Parameters\n",
    "    ----------\n",
    "    xdata : An array of length N.\n",
    "    ydata : An array of length N.\n",
    "\n",
    "    sigmay : None or an array of length N.\n",
    "    sigmax : None or an array of length N.\n",
    "        If one is provided, it is the standard deviation of ydata.  Analytical linear regression used.\n",
    "        If both are provided, they are the standard deviations of ydata and xdata, respectively. ODR is used.\n",
    "\n",
    "    Returns\n",
    "    -------\n",
    "    a, b   : Optimal parameter of linear fit (y = a*x + b)\n",
    "    sa, sb : Uncertainties of the parameters\n",
    "    \"\"\"\n",
    "\n",
    "    def lin_func(p, x):\n",
    "        a, b = p\n",
    "        return a*x + b\n",
    "    \n",
    "    dof = len(ydata) - 2\n",
    "\n",
    "    if sigmax is None:\n",
    "        if sigmay is None:\n",
    "            w = ones(len(ydata)) # Each point is equally weighted.\n",
    "        else:\n",
    "            w=1.0/(sigmay**2)\n",
    "\n",
    "        sw = sum(w)\n",
    "        wx = w*xdata # this product gets used to calculate swxy and swx2\n",
    "        swx = sum(wx)\n",
    "        swy = sum(w*ydata)\n",
    "        swxy = sum(wx*ydata)\n",
    "        swx2 = sum(wx*xdata)\n",
    "\n",
    "        a = (sw*swxy - swx*swy)/(sw*swx2 - swx*swx)\n",
    "        b = (swy*swx2 - swx*swxy)/(sw*swx2 - swx*swx)\n",
    "        sa = sqrt(sw/(sw*swx2 - swx*swx))\n",
    "        sb = sqrt(swx2/(sw*swx2 - swx*swx))\n",
    "\n",
    "        if sigmay is None:\n",
    "            chi2 = sum(((a*xdata + b)-ydata)**2)\n",
    "        else:\n",
    "            chi2 = sum((((a*xdata + b)-ydata)/sigmay)**2)\n",
    "        rchi2 = chi2/dof\n",
    "\n",
    "    else:\n",
    "        # make the initial guess a line passing through first and last points\n",
    "        a0 = (ydata[-1]-ydata[0])/(xdata[-1]-xdata[0])\n",
    "        b0 = ydata[0]-xdata[0]*a0\n",
    "        model = odr.Model(lin_func)\n",
    "        data = odr.RealData(x=xdata, y=ydata, sx=sigmax, sy=sigmay)\n",
    "        od = odr.ODR(data, model, [a0,b0])\n",
    "        out = od.run()\n",
    "        a,b = out.beta\n",
    "        sa,sb = out.sd_beta\n",
    "        rchi2 = out.res_var\n",
    "\n",
    "#    From: https://www.physics.utoronto.ca/~phy326/python/odr_fit_to_data.py\n",
    "#    scipy.odr scales the parameter uncertainties by the reduced chi \n",
    "#    square (out.res_var).  If the fit is poor, i.e. reduced chisq is \n",
    "#    large, the uncertainties are scaled up, which makes sense. If the \n",
    "#    fit is \"too good\", i.e. reduced chisq << 1, it suggests that the \n",
    "#    uncertainties may have been overestimated, but it seems risky to \n",
    "#    scale down the uncertainties. \n",
    "        if rchi2 < 1.0 :\n",
    "            sa = sa/sqrt(rchi2)\n",
    "            sb = sb/sqrt(rchi2)\n",
    "\n",
    "    if sigmay is None:\n",
    "        print('results of linear_fit: no uncertainties provided, so use with caution')\n",
    "    else:\n",
    "        print('results of linear_fit:')\n",
    "\n",
    "#    print('   chi squared = ', chi2)\n",
    "    print('   reduced chi squared = ', rchi2)\n",
    "    print('   degrees of freedom = ', dof)\n",
    "\n",
    "\n",
    "    return a, b, sa, sb, rchi2, dof\n",
    "\n"
   ]
  },
  {
   "cell_type": "code",
   "execution_count": null,
   "metadata": {},
   "outputs": [],
   "source": [
    "from pylab import *\n",
    "\n",
    "# Turn lists of numbers into arrays\n",
    "x = array([0.0, 2.0, 4.0, 6.0, 8.0])\n",
    "y = array([1.1, 1.9, 3.2, 4.0, 5.9])\n",
    "yerr = array([0.1, 0.2, 0.01, 0.3, 0.3])\n",
    "\n",
    "a, b, sa, sb, rchi2, dof = linear_fit(x, y, yerr)\n",
    "\n",
    "print('y = ax + b')\n",
    "print('a = ', a, ' +/- ', sa)\n",
    "print('b = ', b, ' +/- ', sb)"
   ]
  },
  {
   "cell_type": "markdown",
   "metadata": {},
   "source": [
    "An example of performing a linear fit with uncertainties in both the $x$ and $y$ direction is shown below. Arrays containing the data points ($x2$ and $y2$) and their uncertainties ($y2err$ and $x2err$) are sent to the function.  Note the order of the uncertainties!  The uncertainty in $x$ is optional, so it is second.  This is also consistent with the **`errorbar`** function (see below)."
   ]
  },
  {
   "cell_type": "code",
   "execution_count": null,
   "metadata": {},
   "outputs": [],
   "source": [
    "# Test data and uncertainties\n",
    "x2 = array([0.0, 0.9, 1.8, 2.6, 3.3, 4.4, 5.2, 6.1, 6.5, 7.4])\n",
    "x2err = array([0.03162, 0.03162, 0.04472, 0.03536, 0.07071, 0.1118, 0.1291, 0.2236, 0.7454, 1.0])\n",
    "y2 = array([5.9, 5.4, 4.4, 4.6, 3.5, 3.7, 2.8, 2.8, 2.4, 1.5])\n",
    "y2err = array([1.0, 0.7454, 0.5, 0.3536, 0.2236, 0.2236, 0.1118, 0.1118, 0.1, 0.04472])\n",
    "\n",
    "a2, b2, sa2, sb2, rchi2_2, dof2 = linear_fit(x2, y2, y2err, x2err)\n",
    "\n",
    "print('y = ax + b')\n",
    "print('a = ', a2, ' +/- ', sa2)\n",
    "print('b = ', b2, ' +/- ', sb2)"
   ]
  },
  {
   "cell_type": "markdown",
   "metadata": {},
   "source": [
    "## Intrepeting the Results"
   ]
  },
  {
   "cell_type": "markdown",
   "metadata": {},
   "source": [
    "Plotting data with error bars and a best-fit line together gives a rough idea of whether or not the fit is good. If the line passes within most of the error bars, the fit is probably reasonably good. The first line below makes a list of 100 points between the minimum and maximum values of $x$ in the data. The second line finds the value of $y$ for the best fit line."
   ]
  },
  {
   "cell_type": "code",
   "execution_count": null,
   "metadata": {
    "scrolled": true
   },
   "outputs": [],
   "source": [
    "xf = linspace(min(x),max(x),100)\n",
    "yf = a*xf + b\n",
    "figure()\n",
    "scatter(x,y,label='data')  # plot data\n",
    "errorbar(x, y, yerr, ls='None')  # add error bars to data\n",
    "plot(xf,yf,\"r-\",label='best-fit line')  # plot best-fit line\n",
    "legend(loc='upper left')\n",
    "show()"
   ]
  },
  {
   "cell_type": "markdown",
   "metadata": {},
   "source": [
    "When plotting the data with errorbars in both directions, the array of uncertainties in the $y$ direction ($y2err$) comes before the array of uncertainties in the $x$ direction ($x2err$) in the  **`errorbar`** function. In this case, points were not plotted for the data because they would hide the smallest error bars."
   ]
  },
  {
   "cell_type": "code",
   "execution_count": null,
   "metadata": {
    "scrolled": true
   },
   "outputs": [],
   "source": [
    "x2f = linspace(min(x2),max(x2),100)\n",
    "y2f = a2*x2f + b2\n",
    "figure()\n",
    "errorbar(x2, y2, y2err, x2err, ls='None', label='data')  # plot data w/o points since some error bars are small\n",
    "plot(x2f,y2f,\"r-\",label='best-fit line')  # plot best-fit line\n",
    "legend(loc='upper right')\n",
    "show()"
   ]
  },
  {
   "cell_type": "markdown",
   "metadata": {},
   "source": [
    "The reduced chi squared and the degrees of freedom can also be used to judge the goodness of the fit. If $N$ is the number of data points and $C$ is  \n",
    "the number of parameters (or constraints) in the fit, the number degrees of freedom is  \n",
    "$$\n",
    "d = N - C.\n",
    "$$  \n",
    "For a linear fit, $C = 2$ because there two parameters for a line. The reduced chi squared is defined as  \n",
    "$$\n",
    "\\tilde{\\chi}^{\\, 2} = \\frac{\\chi^2}{d}.\n",
    "$$  \n",
    "According to Taylor (p. 271), “If we obtain a value of $\\tilde{\\chi}^{\\, 2}$ of order one or less, then we have no reason to doubt our expected distribution; if we obtain a value of $\\tilde{\\chi}^{\\, 2}$ much larger than one, our expected distribution is unlikely to be correct.”  \n",
    "For an observed value (from fitting data) of the reduced chi square ($\\tilde{\\chi}^{\\, 2}_o$), you can look up the probability of randomly getting a larger $\\tilde{\\chi}^{\\, 2}$ with $d$ degrees of freedom on the table below (from Appendix D of Taylor’s book). A typical standard is to reject a fit if  \n",
    "$$\n",
    "Prob_d\\left(\\tilde{\\chi}^{\\, 2} \\ge \\tilde{\\chi}^{\\, 2}_o \\right) < 5\\%.\n",
    "$$  \n",
    "In other words, if the reduced chi squared for a fit is unlikely to occur randomly, then the fit is not a good one.  \n",
    "In the first example above, five data points are fit with a line and $\\tilde{\\chi}^{\\, 2} = 1.85$. Since $d = 5 - 2 = 3$, the table gives  \n",
    "\n",
    "$$\n",
    "Prob_d\\left(\\tilde{\\chi}^{\\, 2} \\ge \\tilde{\\chi}^{\\, 2}_o \\right) \\approx 14\\%,\n",
    "$$  \n",
    "and there is no reason to reject the fit."
   ]
  },
  {
   "cell_type": "code",
   "execution_count": null,
   "metadata": {},
   "outputs": [],
   "source": [
    "Image(filename=\"ChiSqTable-Taylor.jpg\",width=600)"
   ]
  },
  {
   "cell_type": "markdown",
   "metadata": {},
   "source": [
    "## Linearization"
   ]
  },
  {
   "cell_type": "markdown",
   "metadata": {},
   "source": [
    "Some other functions with two parameters can be linearized so that a linear fit can be used. There are two common examples.  \n",
    "First, if data is expected to fit an exponential function  \n",
    "$$\n",
    "y(x)=Ce^{Dx}, \n",
    "$$  \n",
    "then  \n",
    "$$\n",
    "\\ln y = Dx + \\ln C.\n",
    "$$  \n",
    "Therefore, $\\ln y$ vs. $x$ can be fit with a line in order to determine $C$ and $D$. Don’t forget that the uncertainty of $\\ln y$ is not the same as the uncertainty of $y$. Also, the linear fit gives $\\ln C$ and its uncertainty, which is not the same as the uncertainty of $C$. The uncertainties must be propagated correctly.  \n",
    "Second, if data is expected to fit power law of the form\n",
    "$$\n",
    "y(x) = kx^n,\n",
    "$$\n",
    "then\n",
    "$$\n",
    "\\log y = n \\log x + \\log k.\n",
    "$$  \n",
    "Note that the base 10 logarithm is typically used for power laws. In this case, $\\log y$ vs. $\\log x$ can be fit with a line. Don't forget that the uncertainties of $\\log x$ and $\\log y$ are not the same as the uncertainties of $x$ and $y$. The power $n$ is the slope, so its uncertainty comes directly from the fit. However, the uncertainty of the $\\log k$ from the y intercept is not the same as the uncertainty of $k$. That uncertainty must be propagated."
   ]
  },
  {
   "cell_type": "markdown",
   "metadata": {},
   "source": [
    "## Additional Documentation"
   ]
  },
  {
   "cell_type": "markdown",
   "metadata": {},
   "source": [
    "More information is available at:  \n",
    "https://docs.scipy.org/doc/scipy/reference/odr.html"
   ]
  },
  {
   "cell_type": "code",
   "execution_count": null,
   "metadata": {},
   "outputs": [],
   "source": []
  }
 ],
 "metadata": {
  "kernelspec": {
   "display_name": "Python 3",
   "language": "python",
   "name": "python3"
  },
  "language_info": {
   "codemirror_mode": {
    "name": "ipython",
    "version": 3
   },
   "file_extension": ".py",
   "mimetype": "text/x-python",
   "name": "python",
   "nbconvert_exporter": "python",
   "pygments_lexer": "ipython3",
   "version": "3.12.6"
  }
 },
 "nbformat": 4,
 "nbformat_minor": 4
}
